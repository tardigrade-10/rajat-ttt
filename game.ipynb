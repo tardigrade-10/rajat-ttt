{
 "cells": [
  {
   "cell_type": "code",
   "execution_count": 1,
   "metadata": {},
   "outputs": [],
   "source": [
    "board = [0] * 9\n",
    "\n",
    "def is_end(board):\n",
    "    end_pos = [(0,1,2),\n",
    "                (3,4,5),\n",
    "                (6,7,8),\n",
    "                (0,3,6),\n",
    "                (1,4,7),\n",
    "                (2,5,8),\n",
    "                (0,4,8),\n",
    "                (2,4,6)]\n",
    "\n",
    "    for a,b,c in end_pos:\n",
    "        if board[a] == board[b] == board[c] == 1:\n",
    "            return 1\n",
    "        if board[a] == board[b] == board[c] == 2:\n",
    "            return 2\n",
    "    \n",
    "    if 0 not in board:\n",
    "        return 0"
   ]
  },
  {
   "cell_type": "code",
   "execution_count": null,
   "metadata": {},
   "outputs": [],
   "source": []
  }
 ],
 "metadata": {
  "kernelspec": {
   "display_name": "Python 3.10.4 64-bit",
   "language": "python",
   "name": "python3"
  },
  "language_info": {
   "codemirror_mode": {
    "name": "ipython",
    "version": 3
   },
   "file_extension": ".py",
   "mimetype": "text/x-python",
   "name": "python",
   "nbconvert_exporter": "python",
   "pygments_lexer": "ipython3",
   "version": "3.10.4"
  },
  "orig_nbformat": 4,
  "vscode": {
   "interpreter": {
    "hash": "369f2c481f4da34e4445cda3fffd2e751bd1c4d706f27375911949ba6bb62e1c"
   }
  }
 },
 "nbformat": 4,
 "nbformat_minor": 2
}
